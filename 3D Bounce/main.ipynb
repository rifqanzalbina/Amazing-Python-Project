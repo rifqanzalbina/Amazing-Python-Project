{
 "cells": [
  {
   "cell_type": "code",
   "execution_count": 1,
   "metadata": {},
   "outputs": [
    {
     "name": "stdout",
     "output_type": "stream",
     "text": [
      "pygame 2.5.0 (SDL 2.28.0, Python 3.11.4)\n",
      "Hello from the pygame community. https://www.pygame.org/contribute.html\n"
     ]
    },
    {
     "ename": "error",
     "evalue": "display Surface quit",
     "output_type": "error",
     "traceback": [
      "\u001b[1;31m---------------------------------------------------------------------------\u001b[0m",
      "\u001b[1;31merror\u001b[0m                                     Traceback (most recent call last)",
      "Cell \u001b[1;32mIn[1], line 46\u001b[0m\n\u001b[0;32m     43\u001b[0m         pygame\u001b[38;5;241m.\u001b[39mquit()\n\u001b[0;32m     44\u001b[0m         exit()\n\u001b[1;32m---> 46\u001b[0m \u001b[43mscreen\u001b[49m\u001b[38;5;241;43m.\u001b[39;49m\u001b[43mfill\u001b[49m\u001b[43m(\u001b[49m\u001b[43mblack\u001b[49m\u001b[43m)\u001b[49m\n\u001b[0;32m     48\u001b[0m new_balls \u001b[38;5;241m=\u001b[39m []\n\u001b[0;32m     49\u001b[0m \u001b[38;5;28;01mfor\u001b[39;00m ball \u001b[38;5;129;01min\u001b[39;00m balls:\n",
      "\u001b[1;31merror\u001b[0m: display Surface quit"
     ]
    },
    {
     "ename": "",
     "evalue": "",
     "output_type": "error",
     "traceback": [
      "\u001b[1;31mThe Kernel crashed while executing code in the current cell or a previous cell. \n",
      "\u001b[1;31mPlease review the code in the cell(s) to identify a possible cause of the failure. \n",
      "\u001b[1;31mClick <a href='https://aka.ms/vscodeJupyterKernelCrash'>here</a> for more info. \n",
      "\u001b[1;31mView Jupyter <a href='command:jupyter.viewOutput'>log</a> for further details."
     ]
    }
   ],
   "source": [
    "import pygame\n",
    "\n",
    "pygame.init()\n",
    "\n",
    "width = 800\n",
    "height = 600\n",
    "screen_resolution = (width, height)\n",
    "\n",
    "pygame.display.set_caption(\"Bouncing game\")\n",
    "screen = pygame.display.set_mode(screen_resolution)\n",
    "\n",
    "red = (255, 0, 0)\n",
    "black = (0, 0, 0)\n",
    "\n",
    "class Ball:\n",
    "    def __init__(self, x, y, radius, speed):\n",
    "        self.x = x\n",
    "        self.y = y\n",
    "        self.radius = radius\n",
    "        self.speed = speed\n",
    "\n",
    "    def move(self):\n",
    "        self.x += self.speed[0]\n",
    "        self.y += self.speed[1]\n",
    "\n",
    "    def check_collision(self):\n",
    "        if self.x - self.radius <= 0 or self.x + self.radius >= width:\n",
    "            self.speed[0] = -self.speed[0]\n",
    "            return True\n",
    "        if self.y - self.radius <= 0 or self.y + self.radius >= height:\n",
    "            self.speed[1] = -self.speed[1]\n",
    "            return True\n",
    "        return False\n",
    "\n",
    "    def draw(self):\n",
    "        pygame.draw.circle(screen, red, (self.x, self.y), self.radius)\n",
    "\n",
    "balls = [Ball(100, 100, 40, [5, 3])]\n",
    "\n",
    "while True:\n",
    "    for event in pygame.event.get():\n",
    "        if event.type == pygame.QUIT:\n",
    "            pygame.quit()\n",
    "            exit()\n",
    "\n",
    "    screen.fill(black)\n",
    "\n",
    "    new_balls = []\n",
    "    for ball in balls:\n",
    "        ball.move()\n",
    "        if ball.check_collision():\n",
    "            new_balls.append(Ball(ball.x, ball.y, ball.radius / 2, [ball.speed[0] * 1.1, ball.speed[1] * 1.1]))\n",
    "            new_balls.append(Ball(ball.x, ball.y, ball.radius / 2, [ball.speed[0] * 1.1, ball.speed[1] * 1.1]))\n",
    "        ball.draw()\n",
    "\n",
    "    balls.extend(new_balls)\n",
    "\n",
    "    pygame.display.flip()\n"
   ]
  }
 ],
 "metadata": {
  "kernelspec": {
   "display_name": "Python 3",
   "language": "python",
   "name": "python3"
  },
  "language_info": {
   "codemirror_mode": {
    "name": "ipython",
    "version": 3
   },
   "file_extension": ".py",
   "mimetype": "text/x-python",
   "name": "python",
   "nbconvert_exporter": "python",
   "pygments_lexer": "ipython3",
   "version": "3.11.4"
  }
 },
 "nbformat": 4,
 "nbformat_minor": 2
}
